{
 "cells": [
  {
   "cell_type": "code",
   "execution_count": 2,
   "id": "eabf7b59-57f1-4e7c-8724-2d7653c5c508",
   "metadata": {},
   "outputs": [],
   "source": [
    "import numpy as np"
   ]
  },
  {
   "cell_type": "markdown",
   "id": "5f67cc6c-7e7d-437f-a904-15e833ffd4b8",
   "metadata": {},
   "source": [
    "### Q2\n",
    "#### Part (e)"
   ]
  },
  {
   "cell_type": "code",
   "execution_count": null,
   "id": "4f0b8bd3-585e-4d2b-a588-fd9bf86520e9",
   "metadata": {},
   "outputs": [],
   "source": []
  },
  {
   "cell_type": "markdown",
   "id": "07d39faa-d291-4596-99ed-ec636ea48610",
   "metadata": {},
   "source": [
    "### Q3\n",
    "#### Part (g)"
   ]
  },
  {
   "cell_type": "code",
   "execution_count": null,
   "id": "4616fe80-e3c6-459e-b6fc-d1ec1b105ceb",
   "metadata": {},
   "outputs": [],
   "source": []
  },
  {
   "cell_type": "markdown",
   "id": "27102329-823b-45dd-9e0c-de15e191bd4e",
   "metadata": {},
   "source": [
    "### Q6\n",
    "#### Part (c)"
   ]
  },
  {
   "cell_type": "code",
   "execution_count": 3,
   "id": "da6fe0aa-35b2-403b-b763-81cf9b68e5f8",
   "metadata": {},
   "outputs": [],
   "source": [
    "a = np.array([1,1,2]).reshape(-1,1)"
   ]
  },
  {
   "cell_type": "code",
   "execution_count": 4,
   "id": "6ad2449b-e021-4cc4-96fc-cb77a12d84e8",
   "metadata": {},
   "outputs": [
    {
     "data": {
      "text/plain": [
       "(3, 1)"
      ]
     },
     "execution_count": 4,
     "metadata": {},
     "output_type": "execute_result"
    }
   ],
   "source": [
    "a.shape"
   ]
  },
  {
   "cell_type": "code",
   "execution_count": 5,
   "id": "5aa13cdd-4bfe-4cb3-83b9-5f1db20c2130",
   "metadata": {},
   "outputs": [
    {
     "data": {
      "text/plain": [
       "array([[1, 1, 2],\n",
       "       [1, 1, 2],\n",
       "       [2, 2, 4]])"
      ]
     },
     "execution_count": 5,
     "metadata": {},
     "output_type": "execute_result"
    }
   ],
   "source": [
    "a @ a.T"
   ]
  },
  {
   "cell_type": "code",
   "execution_count": 6,
   "id": "3c1a2c14-81d8-486a-86cc-270054591e5d",
   "metadata": {},
   "outputs": [
    {
     "data": {
      "text/plain": [
       "1"
      ]
     },
     "execution_count": 6,
     "metadata": {},
     "output_type": "execute_result"
    }
   ],
   "source": [
    "np.linalg.matrix_rank(a @ a.T)"
   ]
  },
  {
   "cell_type": "code",
   "execution_count": null,
   "id": "4115cfca-0e0b-41a4-a6c8-22791ccef834",
   "metadata": {},
   "outputs": [],
   "source": []
  }
 ],
 "metadata": {
  "kernelspec": {
   "display_name": "Python [conda env:classes]",
   "language": "python",
   "name": "conda-env-classes-py"
  },
  "language_info": {
   "codemirror_mode": {
    "name": "ipython",
    "version": 3
   },
   "file_extension": ".py",
   "mimetype": "text/x-python",
   "name": "python",
   "nbconvert_exporter": "python",
   "pygments_lexer": "ipython3",
   "version": "3.10.9"
  }
 },
 "nbformat": 4,
 "nbformat_minor": 5
}
