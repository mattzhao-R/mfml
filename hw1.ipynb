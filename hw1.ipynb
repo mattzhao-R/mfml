{
 "cells": [
  {
   "cell_type": "code",
   "execution_count": 1,
   "id": "eabf7b59-57f1-4e7c-8724-2d7653c5c508",
   "metadata": {},
   "outputs": [],
   "source": [
    "import numpy as np"
   ]
  },
  {
   "cell_type": "markdown",
   "id": "5f67cc6c-7e7d-437f-a904-15e833ffd4b8",
   "metadata": {},
   "source": []
  }
 ],
 "metadata": {
  "kernelspec": {
   "display_name": "Python [conda env:classes]",
   "language": "python",
   "name": "conda-env-classes-py"
  },
  "language_info": {
   "codemirror_mode": {
    "name": "ipython",
    "version": 3
   },
   "file_extension": ".py",
   "mimetype": "text/x-python",
   "name": "python",
   "nbconvert_exporter": "python",
   "pygments_lexer": "ipython3",
   "version": "3.10.9"
  }
 },
 "nbformat": 4,
 "nbformat_minor": 5
}
