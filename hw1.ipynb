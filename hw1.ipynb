{
 "cells": [
  {
   "cell_type": "code",
   "execution_count": 1,
   "id": "eabf7b59-57f1-4e7c-8724-2d7653c5c508",
   "metadata": {},
   "outputs": [],
   "source": [
    "import numpy as np"
   ]
  },
  {
   "cell_type": "markdown",
   "id": "5f67cc6c-7e7d-437f-a904-15e833ffd4b8",
   "metadata": {},
   "source": [
    "### Q2\n",
    "#### Part (e)"
   ]
  },
  {
   "cell_type": "markdown",
   "id": "fa6fa3f6-c7a9-4dd9-9a39-ecd9724dad67",
   "metadata": {},
   "source": [
    "##### Code for (a)"
   ]
  },
  {
   "cell_type": "code",
   "execution_count": 2,
   "id": "4f0b8bd3-585e-4d2b-a588-fd9bf86520e9",
   "metadata": {},
   "outputs": [
    {
     "data": {
      "text/plain": [
       "array([[2. , 1. , 1. ],\n",
       "       [2. , 2. , 0. ],\n",
       "       [0.5, 0.5, 1. ],\n",
       "       [0. , 1. , 3. ],\n",
       "       [0. , 0. , 3. ]])"
      ]
     },
     "execution_count": 2,
     "metadata": {},
     "output_type": "execute_result"
    }
   ],
   "source": [
    "X = np.array([[2,1,1],\n",
    "             [2,2,0],\n",
    "             [0.5,0.5,1],\n",
    "             [0,1,3],\n",
    "             [0,0,3]])\n",
    "X"
   ]
  },
  {
   "cell_type": "markdown",
   "id": "f07713b8-29cc-4603-8b28-e14033f03fac",
   "metadata": {},
   "source": [
    "##### Code for (b)"
   ]
  },
  {
   "cell_type": "code",
   "execution_count": 3,
   "id": "d3f84fbb-b6e3-448c-bed5-00cf8de5f99c",
   "metadata": {},
   "outputs": [
    {
     "data": {
      "text/plain": [
       "array([[1. ],\n",
       "       [0.2],\n",
       "       [0.5],\n",
       "       [0.1],\n",
       "       [0.4]])"
      ]
     },
     "execution_count": 3,
     "metadata": {},
     "output_type": "execute_result"
    }
   ],
   "source": [
    "c = np.array([1,0.2,0.5,0.1,0.4]).reshape(-1,1)\n",
    "c"
   ]
  },
  {
   "cell_type": "code",
   "execution_count": 4,
   "id": "d7ea4fc0-f8ae-476d-b452-13d9562b6daf",
   "metadata": {},
   "outputs": [
    {
     "data": {
      "text/plain": [
       "array([[2.65],\n",
       "       [1.75],\n",
       "       [3.  ]])"
      ]
     },
     "execution_count": 4,
     "metadata": {},
     "output_type": "execute_result"
    }
   ],
   "source": [
    "X.T @ c"
   ]
  },
  {
   "cell_type": "markdown",
   "id": "91f0247f-8994-4e10-84ab-14a3c19ce176",
   "metadata": {},
   "source": [
    "##### Code for (c)"
   ]
  },
  {
   "cell_type": "code",
   "execution_count": 5,
   "id": "f3b4e82f-87e5-4388-8836-e6259fd1a880",
   "metadata": {},
   "outputs": [
    {
     "data": {
      "text/plain": [
       "array([[1],\n",
       "       [1],\n",
       "       [0]])"
      ]
     },
     "execution_count": 5,
     "metadata": {},
     "output_type": "execute_result"
    }
   ],
   "source": [
    "p = np.array([1,1,0]).reshape(-1,1)\n",
    "p"
   ]
  },
  {
   "cell_type": "code",
   "execution_count": 6,
   "id": "f5568763-a38d-44e2-845a-8d6c3bfdb43a",
   "metadata": {},
   "outputs": [
    {
     "data": {
      "text/plain": [
       "array([[3.],\n",
       "       [4.],\n",
       "       [1.],\n",
       "       [1.],\n",
       "       [0.]])"
      ]
     },
     "execution_count": 6,
     "metadata": {},
     "output_type": "execute_result"
    }
   ],
   "source": [
    "X @ p"
   ]
  },
  {
   "cell_type": "markdown",
   "id": "faf0e606-7cb0-4873-926e-eea8769c7d03",
   "metadata": {},
   "source": [
    "##### Code for (d)"
   ]
  },
  {
   "cell_type": "code",
   "execution_count": 7,
   "id": "63566196-d39e-4623-ab8b-d379bf00d602",
   "metadata": {},
   "outputs": [
    {
     "data": {
      "text/plain": [
       "array([[3],\n",
       "       [3],\n",
       "       [3]])"
      ]
     },
     "execution_count": 7,
     "metadata": {},
     "output_type": "execute_result"
    }
   ],
   "source": [
    "p = np.array([3,3,3]).reshape(-1,1)\n",
    "p"
   ]
  },
  {
   "cell_type": "code",
   "execution_count": 8,
   "id": "7855044b-350d-44c7-ae99-a7b08cb5de5d",
   "metadata": {},
   "outputs": [
    {
     "data": {
      "text/plain": [
       "array([[22.2]])"
      ]
     },
     "execution_count": 8,
     "metadata": {},
     "output_type": "execute_result"
    }
   ],
   "source": [
    "(X @ p).T @ c"
   ]
  },
  {
   "cell_type": "markdown",
   "id": "07d39faa-d291-4596-99ed-ec636ea48610",
   "metadata": {},
   "source": [
    "### Q3\n",
    "#### Part (g)"
   ]
  },
  {
   "cell_type": "code",
   "execution_count": 9,
   "id": "357e2e66-acab-40ef-a8bd-b9b9adf4ccfd",
   "metadata": {},
   "outputs": [
    {
     "data": {
      "text/plain": [
       "array([[ 4,  1,  1],\n",
       "       [-3,  2,  2],\n",
       "       [ 1, -3,  2],\n",
       "       [ 5,  1,  3]])"
      ]
     },
     "execution_count": 9,
     "metadata": {},
     "output_type": "execute_result"
    }
   ],
   "source": [
    "X = np.array([[4,1,1],\n",
    "             [-3,2,2],\n",
    "             [1,-3,2],\n",
    "             [5,1,3]])\n",
    "X"
   ]
  },
  {
   "cell_type": "markdown",
   "id": "8810ee96-93b7-4fd9-9d4d-a859e4f55268",
   "metadata": {},
   "source": [
    "##### Code for (a)"
   ]
  },
  {
   "cell_type": "code",
   "execution_count": 10,
   "id": "4616fe80-e3c6-459e-b6fc-d1ec1b105ceb",
   "metadata": {},
   "outputs": [
    {
     "data": {
      "text/plain": [
       "array([[ 9],\n",
       "       [ 7],\n",
       "       [ 1],\n",
       "       [16]])"
      ]
     },
     "execution_count": 10,
     "metadata": {},
     "output_type": "execute_result"
    }
   ],
   "source": [
    "y = np.array([9,7,1,16]).reshape(-1,1)\n",
    "y"
   ]
  },
  {
   "cell_type": "code",
   "execution_count": 11,
   "id": "4d1df4b4-542d-4ca0-89b8-1d550f138f67",
   "metadata": {},
   "outputs": [
    {
     "data": {
      "text/plain": [
       "array([[1],\n",
       "       [2],\n",
       "       [3]])"
      ]
     },
     "execution_count": 11,
     "metadata": {},
     "output_type": "execute_result"
    }
   ],
   "source": [
    "w = np.array([1,2,3]).reshape(-1,1)\n",
    "w"
   ]
  },
  {
   "cell_type": "code",
   "execution_count": 12,
   "id": "aedfa811-a7da-498f-9c30-ccd4d5f41095",
   "metadata": {},
   "outputs": [
    {
     "data": {
      "text/plain": [
       "array([[ 9],\n",
       "       [ 7],\n",
       "       [ 1],\n",
       "       [16]])"
      ]
     },
     "execution_count": 12,
     "metadata": {},
     "output_type": "execute_result"
    }
   ],
   "source": [
    "y_hat = X @ w\n",
    "y_hat"
   ]
  },
  {
   "cell_type": "code",
   "execution_count": 13,
   "id": "d600b6cf-d133-4c66-b404-282e09ded095",
   "metadata": {},
   "outputs": [
    {
     "data": {
      "text/plain": [
       "array([[ True],\n",
       "       [ True],\n",
       "       [ True],\n",
       "       [ True]])"
      ]
     },
     "execution_count": 13,
     "metadata": {},
     "output_type": "execute_result"
    }
   ],
   "source": [
    "y_hat == y"
   ]
  },
  {
   "cell_type": "markdown",
   "id": "8f75385c-fedc-4489-9b83-cb52b5311622",
   "metadata": {},
   "source": [
    "##### Code for (b)"
   ]
  },
  {
   "cell_type": "code",
   "execution_count": 14,
   "id": "411c83b4-9b99-4891-a8dc-4837c3dc9068",
   "metadata": {},
   "outputs": [
    {
     "name": "stdout",
     "output_type": "stream",
     "text": [
      "[[4 1 1]]\n",
      "[[-3  2  2]]\n",
      "[[ 1 -3  2]]\n",
      "[[5 1 3]]\n"
     ]
    }
   ],
   "source": [
    "for i in range(1,5):\n",
    "    w = np.array([np.where(i == 1,1,0),\n",
    "              np.where(i == 2,1,0),\n",
    "              np.where(i == 3,1,0),\n",
    "              np.where(i == 4,1,0)]).reshape(-1,1)\n",
    "    print(w.T @ X)"
   ]
  },
  {
   "cell_type": "markdown",
   "id": "aa51b95e-7c25-4cb3-b3a7-d94596185c98",
   "metadata": {},
   "source": [
    "##### Code for (c)"
   ]
  },
  {
   "cell_type": "code",
   "execution_count": 15,
   "id": "baf75d08-f3aa-4917-8b30-4c8280cae444",
   "metadata": {},
   "outputs": [
    {
     "name": "stdout",
     "output_type": "stream",
     "text": [
      "[[22.8  5.7  5.7]]\n",
      "[[-0.3  9.   9. ]]\n",
      "[[12.9 -7.5  9. ]]\n",
      "[[26.1  5.7 12.3]]\n",
      "[[6.  8.1 8.1]]\n",
      "[[-17.1  11.4  11.4]]\n",
      "[[-3.9 -5.1 11.4]]\n",
      "[[ 9.3  8.1 14.7]]\n",
      "[[15.6 -3.9  8.1]]\n",
      "[[-7.5 -0.6 11.4]]\n",
      "[[  5.7 -17.1  11.4]]\n",
      "[[18.9 -3.9 14.7]]\n",
      "[[25.2  5.7 10.5]]\n",
      "[[ 2.1  9.  13.8]]\n",
      "[[15.3 -7.5 13.8]]\n",
      "[[28.5  5.7 17.1]]\n"
     ]
    }
   ],
   "source": [
    "a = 2.4\n",
    "b = 3.3\n",
    "for i in range(1,5):\n",
    "    for j in range(1,5):\n",
    "        w = np.array([a * np.where(i == 1,1,0) + b * np.where(j == 1,1,0),\n",
    "                      a * np.where(i == 2,1,0) + b * np.where(j == 2,1,0),\n",
    "                      a * np.where(i == 3,1,0) + b * np.where(j == 3,1,0),\n",
    "                      a * np.where(i == 4,1,0) + b * np.where(j == 4,1,0)]\n",
    "                    ).reshape(-1,1)\n",
    "        print(w.T @ X)"
   ]
  },
  {
   "cell_type": "markdown",
   "id": "4c2a354c-5e90-4eab-b95d-ea8f8a9b5014",
   "metadata": {},
   "source": [
    "##### Code for (d)"
   ]
  },
  {
   "cell_type": "code",
   "execution_count": 16,
   "id": "f27772b7-c274-4522-8e0c-798af08b994a",
   "metadata": {},
   "outputs": [
    {
     "name": "stdout",
     "output_type": "stream",
     "text": [
      "[[ 4]\n",
      " [-3]\n",
      " [ 1]\n",
      " [ 5]]\n",
      "[[ 1]\n",
      " [ 2]\n",
      " [-3]\n",
      " [ 1]]\n",
      "[[1]\n",
      " [2]\n",
      " [2]\n",
      " [3]]\n"
     ]
    }
   ],
   "source": [
    "for i in range(1,4):\n",
    "    w = np.array([np.where(i == 1,1,0),\n",
    "              np.where(i == 2,1,0),\n",
    "              np.where(i == 3,1,0)]).reshape(-1,1)\n",
    "    print(X @ w)"
   ]
  },
  {
   "cell_type": "markdown",
   "id": "3ed9ce9b-2a0d-4e1c-9268-9ae754065870",
   "metadata": {},
   "source": [
    "##### Code for (e)"
   ]
  },
  {
   "cell_type": "code",
   "execution_count": 17,
   "id": "5e0bed1b-d201-4ef6-a50d-b3deb45bdfc9",
   "metadata": {},
   "outputs": [
    {
     "data": {
      "text/plain": [
       "array([[-1],\n",
       "       [10],\n",
       "       [ 0]])"
      ]
     },
     "execution_count": 17,
     "metadata": {},
     "output_type": "execute_result"
    }
   ],
   "source": [
    "w = np.array([-1,10,0]).reshape(-1,1)\n",
    "w"
   ]
  },
  {
   "cell_type": "code",
   "execution_count": 18,
   "id": "da9e7150-f81c-4cdd-a5c2-a8f75f5b982b",
   "metadata": {},
   "outputs": [
    {
     "data": {
      "text/plain": [
       "array([[  6],\n",
       "       [ 23],\n",
       "       [-31],\n",
       "       [  5]])"
      ]
     },
     "execution_count": 18,
     "metadata": {},
     "output_type": "execute_result"
    }
   ],
   "source": [
    "X @ w"
   ]
  },
  {
   "cell_type": "markdown",
   "id": "27102329-823b-45dd-9e0c-de15e191bd4e",
   "metadata": {},
   "source": [
    "### Q6\n",
    "#### Part (c)"
   ]
  },
  {
   "cell_type": "code",
   "execution_count": 19,
   "id": "4115cfca-0e0b-41a4-a6c8-22791ccef834",
   "metadata": {},
   "outputs": [],
   "source": [
    "import scipy.io as sio\n",
    "import matplotlib.pyplot as plt\n",
    "from mpl_toolkits import mplot3d"
   ]
  },
  {
   "cell_type": "code",
   "execution_count": 20,
   "id": "64887ea5-b500-4bdc-9bf2-6ea3aec485b9",
   "metadata": {},
   "outputs": [
    {
     "data": {
      "image/png": "[encoded data removed]",
      "text/plain": [
       "<Figure size 640x480 with 1 Axes>"
      ]
     },
     "metadata": {},
     "output_type": "display_data"
    }
   ],
   "source": [
    "# n = number of poitns\n",
    "# z = points where polynomial is evaluated\n",
    "# p = array to store the values of the interpolated polynomials\n",
    "\n",
    "n = 100\n",
    "z_1 = np.linspace(-1, 1, n)\n",
    "z_2 = np.linspace(-1, 1, n)\n",
    "\n",
    "w_size = 6\n",
    "w = np.random.rand(w_size)\n",
    "X = np.zeros((n,w_size))\n",
    "\n",
    "# TODO: generate X-matrix\n",
    "X = np.array([np.ones(shape = (n)),\n",
    "              z_1,\n",
    "              z_2,\n",
    "              z_1 * z_2,\n",
    "              z_1 ** 2,\n",
    "              z_2 ** 2]\n",
    "            ).T\n",
    "\n",
    "# TODO: evaluate polynomial at all points z,\n",
    "# and store the result in p\n",
    "# do NOT use a loop for this\n",
    "\n",
    "p = X @ w\n",
    "\n",
    "# plot the datapoints and the best-fit polynomials\n",
    "fig = plt.figure()\n",
    "# syntax for 3-D projection\n",
    "ax = plt.axes(projection = '3d')\n",
    "\n",
    "ax.plot3D(z_1, z_2, p, 'green')\n",
    "ax.set_xlabel(\"z_1\")\n",
    "ax.set_ylabel(\"z_2\")\n",
    "ax.set_zlabel(\"y\")\n",
    "ax.set_title('polynomial with coefficients w%s'%w)\n",
    "plt.show()"
   ]
  }
 ],
 "metadata": {
  "kernelspec": {
   "display_name": "class",
   "language": "python",
   "name": "class"
  },
  "language_info": {
   "codemirror_mode": {
    "name": "ipython",
    "version": 3
   },
   "file_extension": ".py",
   "mimetype": "text/x-python",
   "name": "python",
   "nbconvert_exporter": "python",
   "pygments_lexer": "ipython3",
   "version": "3.10.9"
  }
 },
 "nbformat": 4,
 "nbformat_minor": 5
}
