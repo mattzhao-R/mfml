{
 "cells": [
  {
   "cell_type": "code",
   "execution_count": 1,
   "metadata": {
    "id": "awO-zcr9RMMR"
   },
   "outputs": [],
   "source": [
    "import numpy as np"
   ]
  },
  {
   "cell_type": "markdown",
   "metadata": {
    "id": "l1-HVGQynskN"
   },
   "source": [
    "### Problem 2a"
   ]
  },
  {
   "cell_type": "code",
   "execution_count": 2,
   "metadata": {
    "id": "KHPDgMP1nuns"
   },
   "outputs": [],
   "source": [
    "X = np.array([[1,1],\n",
    "              [4,0],\n",
    "              [0,2]])"
   ]
  },
  {
   "cell_type": "code",
   "execution_count": 3,
   "metadata": {
    "colab": {
     "base_uri": "https://localhost:8080/"
    },
    "id": "fj34trRHoKtN",
    "outputId": "edfb282c-e1dd-46fa-e7ba-e2c7fa8965ab"
   },
   "outputs": [
    {
     "name": "stdout",
     "output_type": "stream",
     "text": [
      "[[ 0.23809524  0.19047619  0.38095238]\n",
      " [ 0.19047619  0.95238095 -0.0952381 ]\n",
      " [ 0.38095238 -0.0952381   0.80952381]]\n"
     ]
    }
   ],
   "source": [
    "P = X @ np.linalg.inv(X.T @ X) @ X.T\n",
    "print(P)"
   ]
  },
  {
   "cell_type": "markdown",
   "metadata": {
    "id": "uoxtGkpt3sW2"
   },
   "source": [
    "### Problem 3b"
   ]
  },
  {
   "cell_type": "code",
   "execution_count": 4,
   "metadata": {
    "colab": {
     "base_uri": "https://localhost:8080/"
    },
    "id": "IvjLjM493v1u",
    "outputId": "a3d2bd88-fb12-43c2-cf57-8e4f0246e310"
   },
   "outputs": [
    {
     "name": "stdout",
     "output_type": "stream",
     "text": [
      "[9.20152843e-13 5.00044450e-13 3.55271368e-13 1.75415238e-13]\n"
     ]
    }
   ],
   "source": [
    "# STARTER CODE\n",
    "import numpy as np\n",
    "import scipy.io\n",
    "import matplotlib.pyplot as plt\n",
    "from matplotlib import colors\n",
    "# load data, make sure ‘fisheriris.mat‘ is in your working directory\n",
    "data = scipy.io.loadmat(\"fisheriris.mat\")\n",
    "X = data['meas']\n",
    "y_text = data['species']\n",
    "############################\n",
    "# YOUR CODE BELOW\n",
    "# Process and assign numerical values to\n",
    "# ‘y‘ according to your (a), make sure ‘y‘ is a 1d numpy array.\n",
    "# If dimensions are mismatching, you may find ‘y = y.flatten()‘ useful.\n",
    "text_to_num = {\n",
    "    'setosa': -1,\n",
    "    'versicolor': 0,\n",
    "    'virginica': 1\n",
    "}\n",
    "y = np.array([text_to_num[text[0][0]] for text in y_text])\n",
    "\n",
    "# Compute the least squares weights\n",
    "w = np.linalg.inv(X.T @ X) @ X.T @ y\n",
    "\n",
    "# Compute the residuals\n",
    "y_hat = X @ w\n",
    "res = y - y_hat\n",
    "\n",
    "# Make a plot\n",
    "print(res @ X)"
   ]
  },
  {
   "cell_type": "markdown",
   "metadata": {
    "id": "IX5HwWc0399k"
   },
   "source": [
    "### Problem 3c"
   ]
  },
  {
   "cell_type": "code",
   "execution_count": 5,
   "metadata": {
    "colab": {
     "base_uri": "https://localhost:8080/"
    },
    "id": "XzIaz8Py4AUI",
    "outputId": "c845823b-5faa-4230-db91-fa072bd47ce5"
   },
   "outputs": [
    {
     "name": "stdout",
     "output_type": "stream",
     "text": [
      "Average estimate over 10000 trials: 3.195%\n"
     ]
    }
   ],
   "source": [
    "# STARTER CODE\n",
    "import numpy as np\n",
    "import scipy.io\n",
    "# load data, make sure ‘fisheriris.mat‘ is in your working directory\n",
    "data = scipy.io.loadmat(\"fisheriris.mat\")\n",
    "# training data\n",
    "X = data['meas']\n",
    "y_text = data['species']\n",
    "############################\n",
    "# YOUR CODE BELOW\n",
    "# Process and assign numerical values to\n",
    "# ‘y‘ according to your (a), make sure ‘y‘ is a 1d numpy array.\n",
    "# If dimensions are mismatching, you may find ‘y = y.flatten()‘ useful.\n",
    "\n",
    "text_to_num = {\n",
    "    'setosa': -1,\n",
    "    'versicolor': 0,\n",
    "    'virginica': 1\n",
    "}\n",
    "y = np.array([text_to_num[text[0][0]] for text in y_text])\n",
    "\n",
    "# number of random trials\n",
    "N = 10000\n",
    "# array to store errors\n",
    "errs = np.zeros(N)\n",
    "# size of training set\n",
    "num_train = 40\n",
    "for i in np.arange(N):\n",
    "    # initialize 0-length arrays for the train and holdout indices. These\n",
    "    # arrays will be filled in the inner loop.\n",
    "    idx_train = np.zeros(0, dtype=np.intp)\n",
    "    idx_holdout = np.zeros(0, dtype=np.intp)\n",
    "    # There are 3 label types and 50 samples of each type\n",
    "    for label_type in range(3):\n",
    "        # Choose a random ordering of the 50 samples\n",
    "        r = np.random.permutation(50)\n",
    "        # Add the first num_train indices of the random ordering to\n",
    "        # the idx_train array\n",
    "        idx_train = np.concatenate((idx_train,\n",
    "                                    50 * label_type + r[:num_train]))\n",
    "        # Add the rest of the indices to the idx_holdout array\n",
    "        idx_holdout = np.concatenate((idx_holdout,\n",
    "                                      50 * label_type + r[num_train:]))\n",
    "    # divide data and labels into the train and holdout sets\n",
    "    Xt = X[idx_train]\n",
    "    yt = y[idx_train]\n",
    "    Xh = X[idx_holdout]\n",
    "    yh = y[idx_holdout]\n",
    "\n",
    "    ########################\n",
    "    # YOUR CODE BELOW\n",
    "    # Solve for the LS weights\n",
    "    w_t = np.linalg.inv(Xt.T @ Xt) @ Xt.T @ yt\n",
    "\n",
    "    # Make predictions using the LS weights\n",
    "    y_tilde = Xh @ w_t\n",
    "\n",
    "    # Turn the real-valued predictions into class labels\n",
    "    y_hat = np.where(y_tilde > 0.5, 1,\n",
    "                     np.where(y_tilde < -0.5, -1,\n",
    "                              np.where((y_tilde >= -0.5) & (y_tilde <= 0.5),\n",
    "                                       0,y_tilde)))\n",
    "\n",
    "    # Compute the errors\n",
    "    test_err = np.sum(np.where(y_hat != yh,1,0))\n",
    "    errs[i] = test_err\n",
    "\n",
    "avg_err = np.sum(errs) / (30 * N) * 100\n",
    "print(f\"Average estimate over {N} trials: {avg_err:.3f}%\")"
   ]
  },
  {
   "cell_type": "markdown",
   "metadata": {
    "id": "Y-SztVfD4GDP"
   },
   "source": [
    "### Problem 3d"
   ]
  },
  {
   "cell_type": "code",
   "execution_count": 6,
   "metadata": {
    "colab": {
     "base_uri": "https://localhost:8080/",
     "height": 392
    },
    "id": "rXts1jJ54HFk",
    "outputId": "f92cded1-a166-4c12-923a-39c00bc510d0"
   },
   "outputs": [
    {
     "data": {
      "text/plain": [
       "<matplotlib.legend.Legend at 0x1c1836a5df0>"
      ]
     },
     "execution_count": 6,
     "metadata": {},
     "output_type": "execute_result"
    },
    {
     "data": {
      "image/png": "[encoded data removed]",
      "text/plain": [
       "<Figure size 1200x750 with 1 Axes>"
      ]
     },
     "metadata": {},
     "output_type": "display_data"
    }
   ],
   "source": [
    "# STARTER CODE\n",
    "import numpy as np\n",
    "import scipy.io\n",
    "# load data, make sure ‘fisheriris.mat‘ is in your working directory\n",
    "data = scipy.io.loadmat(\"fisheriris.mat\")\n",
    "# training data\n",
    "X = data['meas']\n",
    "y_text = data['species']\n",
    "############################\n",
    "# YOUR CODE BELOW\n",
    "# Process and assign numerical values to\n",
    "# ‘y‘ according to your (a), make sure ‘y‘ is a 1d numpy array.\n",
    "# If dimensions are mismatching, you may find ‘y = y.flatten()‘ useful.\n",
    "\n",
    "text_to_num = {\n",
    "    'setosa': -1,\n",
    "    'versicolor': 0,\n",
    "    'virginica': 1\n",
    "}\n",
    "y = np.array([text_to_num[text[0][0]] for text in y_text])\n",
    "\n",
    "# number of random trials\n",
    "N = 5000\n",
    "# Min / Max size of the training set\n",
    "min_num_train = 4\n",
    "max_num_train = 40\n",
    "# Arrays to store error rates\n",
    "train_errs = np.zeros((max_num_train-min_num_train, N))\n",
    "test_errs = np.zeros((max_num_train-min_num_train, N))\n",
    "n_train_vals = np.arange(min_num_train, max_num_train)\n",
    "for j, n_train in enumerate(n_train_vals):\n",
    "    for i in np.arange(N):\n",
    "        # initialize 0-length arrays for the train and holdout indices.\n",
    "        # These arrays will be filled in the inner loop.\n",
    "        idx_train = np.zeros(0, dtype=np.intp)\n",
    "        idx_holdout = np.zeros(0, dtype=np.intp)\n",
    "        # There are 3 label types and 50 samples of each type\n",
    "        for label_type in range(3):\n",
    "            # Choose a random ordering of the 50 samples\n",
    "            r = np.random.permutation(50)\n",
    "            # Add the first num_train indices of the random ordering to\n",
    "            # the idx_train array\n",
    "            idx_train = np.concatenate((idx_train,\n",
    "                                    50 * label_type + r[:n_train]))\n",
    "            # Add the rest of the indices to the idx_holdout array\n",
    "            idx_holdout = np.concatenate((idx_holdout,\n",
    "                                    50 * label_type + r[n_train:]))\n",
    "        # divide data and labels into the train and holdout sets\n",
    "        Xt = X[idx_train]\n",
    "        yt = y[idx_train]\n",
    "        Xh = X[idx_holdout]\n",
    "        yh = y[idx_holdout]\n",
    "        ########################\n",
    "        # YOUR CODE BELOW\n",
    "\n",
    "        # training\n",
    "        ## weights\n",
    "        w_t = np.linalg.inv(Xt.T @ Xt) @ Xt.T @ yt\n",
    "\n",
    "        ## prediction\n",
    "        y_tilde_train = Xt @ w_t\n",
    "        y_hat_train = np.where(y_tilde_train > 0.5, 1,\n",
    "                     np.where(y_tilde_train < -0.5, -1,\n",
    "                              np.where((y_tilde_train >= -0.5) & (y_tilde_train <= 0.5),\n",
    "                                       0,y_tilde_train)))\n",
    "\n",
    "        ## error\n",
    "        train_err = np.sum(np.where(y_hat_train != yt,1,0)) / yt.shape[0] * 100\n",
    "        train_errs[j][i] = train_err\n",
    "\n",
    "        # test\n",
    "        ## prediction\n",
    "        y_tilde_test = Xh @ w_t\n",
    "        y_hat_test = np.where(y_tilde_test > 0.5, 1,\n",
    "                     np.where(y_tilde_test < -0.5, -1,\n",
    "                              np.where((y_tilde_test >= -0.5) & (y_tilde_test <= 0.5),\n",
    "                                       0,y_tilde_test)))\n",
    "\n",
    "        ## error\n",
    "        test_err = np.sum(np.where(y_hat_test != yh,1,0)) / yh.shape[0] * 100\n",
    "        test_errs[j][i] = test_err\n",
    "\n",
    "\n",
    "###################\n",
    "# YOUR CODE BELOW\n",
    "# Make a plot of the train and test errors as a function of\n",
    "# training set size\n",
    "\n",
    "import matplotlib.pyplot as plt\n",
    "\n",
    "plt.figure(figsize=[8,5],dpi=150)\n",
    "plt.scatter(x = n_train_vals, y = np.mean(train_errs, axis = 1),\n",
    "            label = 'train')\n",
    "plt.scatter(x = n_train_vals, y = np.mean(test_errs, axis = 1),\n",
    "            label = 'test')\n",
    "plt.legend()"
   ]
  },
  {
   "cell_type": "markdown",
   "metadata": {
    "id": "1gY62-N7GlTz"
   },
   "source": [
    "### Problem 3e"
   ]
  },
  {
   "cell_type": "code",
   "execution_count": 7,
   "metadata": {
    "id": "3mmb5p_1GkwK"
   },
   "outputs": [
    {
     "name": "stdout",
     "output_type": "stream",
     "text": [
      "Average estimate over 10000 trials: 5.709%\n"
     ]
    }
   ],
   "source": [
    "# STARTER CODE\n",
    "import numpy as np\n",
    "import scipy.io\n",
    "# load data, make sure ‘fisheriris.mat‘ is in your working directory\n",
    "data = scipy.io.loadmat(\"fisheriris.mat\")\n",
    "# training data\n",
    "X = data['meas'][:,[0,2]]\n",
    "y_text = data['species']\n",
    "############################\n",
    "# YOUR CODE BELOW\n",
    "# Process and assign numerical values to\n",
    "# ‘y‘ according to your (a), make sure ‘y‘ is a 1d numpy array.\n",
    "# If dimensions are mismatching, you may find ‘y = y.flatten()‘ useful.\n",
    "\n",
    "text_to_num = {\n",
    "    'setosa': -1,\n",
    "    'versicolor': 0,\n",
    "    'virginica': 1\n",
    "}\n",
    "y = np.array([text_to_num[text[0][0]] for text in y_text])\n",
    "\n",
    "# number of random trials\n",
    "N = 10_000\n",
    "# array to store errors\n",
    "errs = np.zeros(N)\n",
    "# size of training set\n",
    "num_train = 40\n",
    "for i in np.arange(N):\n",
    "    # initialize 0-length arrays for the train and holdout indices. These\n",
    "    # arrays will be filled in the inner loop.\n",
    "    idx_train = np.zeros(0, dtype=np.intp)\n",
    "    idx_holdout = np.zeros(0, dtype=np.intp)\n",
    "    # There are 3 label types and 50 samples of each type\n",
    "    for label_type in range(3):\n",
    "        # Choose a random ordering of the 50 samples\n",
    "        r = np.random.permutation(50)\n",
    "        # Add the first num_train indices of the random ordering to\n",
    "        # the idx_train array\n",
    "        idx_train = np.concatenate((idx_train,\n",
    "                                    50 * label_type + r[:num_train]))\n",
    "        # Add the rest of the indices to the idx_holdout array\n",
    "        idx_holdout = np.concatenate((idx_holdout,\n",
    "                                      50 * label_type + r[num_train:]))\n",
    "    # divide data and labels into the train and holdout sets\n",
    "    Xt = X[idx_train]\n",
    "    yt = y[idx_train]\n",
    "    Xh = X[idx_holdout]\n",
    "    yh = y[idx_holdout]\n",
    "\n",
    "    ########################\n",
    "    # YOUR CODE BELOW\n",
    "    # Solve for the LS weights\n",
    "    w_t = np.linalg.inv(Xt.T @ Xt) @ Xt.T @ yt\n",
    "\n",
    "    # Make predictions using the LS weights\n",
    "    y_tilde = Xh @ w_t\n",
    "\n",
    "    # Turn the real-valued predictions into class labels\n",
    "    y_hat = np.where(y_tilde > 0.5, 1,\n",
    "                     np.where(y_tilde < -0.5, -1,\n",
    "                              np.where((y_tilde >= -0.5) & (y_tilde <= 0.5),\n",
    "                                       0,y_tilde)))\n",
    "\n",
    "    # Compute the errors\n",
    "    test_err = np.sum(np.where(y_hat != yh,1,0))\n",
    "    errs[i] = test_err\n",
    "\n",
    "avg_err = np.sum(errs) / (30 * N) * 100\n",
    "print(f\"Average estimate over {N} trials: {avg_err:.3f}%\")"
   ]
  },
  {
   "cell_type": "markdown",
   "metadata": {
    "id": "8uBalE2x4K04"
   },
   "source": [
    "### Problem 4c"
   ]
  },
  {
   "cell_type": "code",
   "execution_count": 5,
   "metadata": {
    "id": "7tTXYft64M7p"
   },
   "outputs": [
    {
     "name": "stdout",
     "output_type": "stream",
     "text": [
      "[0.4472136  0.89442719 0.        ]\n",
      "[0. 0. 1.]\n"
     ]
    }
   ],
   "source": [
    " ### STARTER CODE\n",
    "import numpy as np\n",
    "import numpy.linalg as la\n",
    "p = np.array(\n",
    "    [[0.2, 0.4, 0. ],\n",
    "    [0.4, 0.8, 0. ],\n",
    "    [0. , 0. , 1. ]]\n",
    ")\n",
    "### YOUR CODE BELOW\n",
    "a_1 = p[:, 0]\n",
    "a_2 = p[:, 2]\n",
    "q_1 = a_1 / la.norm(a_1)\n",
    "q_2_tilde = a_2 - (q_1 @ a_2) * q_1\n",
    "q_2 = q_2_tilde / la.norm(q_2_tilde)\n",
    "print(q_1)\n",
    "print(q_2)"
   ]
  },
  {
   "cell_type": "code",
   "execution_count": null,
   "metadata": {},
   "outputs": [],
   "source": []
  }
 ],
 "metadata": {
  "colab": {
   "provenance": []
  },
  "kernelspec": {
   "display_name": "Python 3 (ipykernel)",
   "language": "python",
   "name": "python3"
  },
  "language_info": {
   "codemirror_mode": {
    "name": "ipython",
    "version": 3
   },
   "file_extension": ".py",
   "mimetype": "text/x-python",
   "name": "python",
   "nbconvert_exporter": "python",
   "pygments_lexer": "ipython3",
   "version": "3.9.13"
  }
 },
 "nbformat": 4,
 "nbformat_minor": 4
}
