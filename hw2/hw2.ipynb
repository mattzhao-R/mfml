{
 "cells": [
  {
   "cell_type": "code",
   "execution_count": 4,
   "id": "041223ce-cee5-4aec-b5c5-ee12fdf1445c",
   "metadata": {},
   "outputs": [],
   "source": [
    "import numpy as np\n",
    "import matplotlib.pyplot as plt"
   ]
  },
  {
   "cell_type": "code",
   "execution_count": 6,
   "id": "8bcbc10f-2ee2-40f3-8161-dff31319d19d",
   "metadata": {},
   "outputs": [],
   "source": [
    "q1 = np.array([[1, 0, 1, -1],\n",
    "               [3, 2, 4, 0],\n",
    "               [-1, 1, 0, 3],\n",
    "               [2, 4, 2, 2]])"
   ]
  },
  {
   "cell_type": "code",
   "execution_count": 8,
   "id": "7de64dde-ab44-47e3-8673-3d70c3d3a145",
   "metadata": {},
   "outputs": [
    {
     "data": {
      "text/plain": [
       "3"
      ]
     },
     "execution_count": 8,
     "metadata": {},
     "output_type": "execute_result"
    }
   ],
   "source": [
    "np.linalg.matrix_rank(q1)"
   ]
  },
  {
   "cell_type": "markdown",
   "id": "51256d50-3b23-4b3f-ac5c-d8f196a5b2a7",
   "metadata": {},
   "source": [
    "## Problem 4a"
   ]
  },
  {
   "cell_type": "code",
   "execution_count": 3,
   "id": "0c900c49-de13-4002-9bf9-f4ff2e243346",
   "metadata": {},
   "outputs": [
    {
     "name": "stdout",
     "output_type": "stream",
     "text": [
      "Part 4a. Found weights:\n",
      "[[ 0.94366942]\n",
      " [ 0.21373778]\n",
      " [ 0.26641775]\n",
      " [-0.39221373]\n",
      " [-0.00538552]\n",
      " [-0.01764687]\n",
      " [-0.16632809]\n",
      " [-0.0822838 ]\n",
      " [-0.16644364]]\n"
     ]
    }
   ],
   "source": [
    "##### Part a #####\n",
    "# Load in training data and labels\n",
    "\n",
    "face_data_dict = np.load(\"face_emotion_data.npz\")\n",
    "face_features = face_data_dict[\"X\"]\n",
    "face_labels = face_data_dict[\"y\"]\n",
    "n, p = face_features.shape\n",
    "\n",
    "# Solve the least-squares solution.\n",
    "# Weights is the array of weight coefficients\n",
    "# TODO: find weights\n",
    "weights = np.linalg.inv(face_features.T @ face_features) @ face_features.T @ face_labels\n",
    "\n",
    "print(f\"Part 4a. Found weights:\\n{weights}\")"
   ]
  },
  {
   "cell_type": "markdown",
   "id": "48367ab6-8106-4829-9d3f-86f7b2f227cc",
   "metadata": {},
   "source": [
    "## Problem 4 c"
   ]
  },
  {
   "cell_type": "code",
   "execution_count": null,
   "id": "fda3b9ac-549c-4039-aa87-b0b99c5b7fb1",
   "metadata": {},
   "outputs": [],
   "source": [
    "def lstsq_cv_err(features: np.ndarray, labels: np.ndarray, subset_count: int=8) -> float:\n",
    "    \"\"\"\n",
    "    Estimate the error of a least-squares classifier\n",
    "    using cross-validation. Use subset_count different \n",
    "    train/test splits with each subset acting as the\n",
    "    holdout set once.\n",
    "    \n",
    "    Parameters:\n",
    "        features (np.ndarray): dataset features as a 2D\n",
    "            array with shape (sample_count, feature_count)\n",
    "        labels (np.ndarray): dataset class labels (+1/-1)\n",
    "            as a 1D array with length (sample_count)\n",
    "        subset_count (int): number of subsets to divide the \n",
    "            dataset into\n",
    "            Note: assume that subset_count divides the \n",
    "                dataset evenly\n",
    "                \n",
    "    Returns: \n",
    "        cls_err (float): estimated classification error\n",
    "            rate of least-squares method\n",
    "    \"\"\"\n",
    "    sample_count, feature_count = features.shape\n",
    "    subset_size = sample_count // subset_count\n",
    "    # Reshape arrays for easier subset-level manipulation\n",
    "    features = features.reshape(subset_count, subset_size,\n",
    "                                feature_count)\n",
    "    labels = labels.reshape(subset_count, subset_size)\n",
    "    \n",
    "    subset_idcs = np.arange(subset_count)\n",
    "    train_set_size = (subset_count - 1) * subset_size\n",
    "    subset_err_counts = np.zeros(subset_count)\n",
    "    \n",
    "    for i in range(subset_count):\n",
    "        # TODO: select relevant dataset,\n",
    "        # fit and evaluate a linear model,\n",
    "        # then store errors in subset_err_counts[i]\n",
    "        pass\n",
    "    \n",
    "    # Average over the entire dataset to find the \n",
    "    # classification error\n",
    "    cls_err = np.sum(subset_err_counts) / (subset_count * subset_size)\n",
    "    return cls_err\n",
    "\n",
    "# Run on the dataset with all features included\n",
    "full_feat_cv_err = lstsq_cv_err(face_features, face_labels)\n",
    "print(f\"Error estimate: {full_feat_cv_err * 100:.3f}%\")"
   ]
  },
  {
   "cell_type": "markdown",
   "id": "5f8d7638-3f5d-4ca1-98ed-e911aa8c24c7",
   "metadata": {},
   "source": [
    "## Problem 5"
   ]
  },
  {
   "cell_type": "code",
   "execution_count": null,
   "id": "12883d35-9338-4a1b-a28c-540c6b65d489",
   "metadata": {},
   "outputs": [],
   "source": [
    "data = np.load('poldata_2D.npz')\n",
    "x1 = np.ravel(data['x1'])\n",
    "x2 = np.ravel(data['x2'])\n",
    "y = data['y']\n",
    "\n",
    "N = x1.size\n",
    "p = np.zeros((3,N))\n",
    "\n",
    "for d in [1,2,3]:\n",
    "    # Generate the X matrix for this d\n",
    "    \n",
    "    # Find the least-squares weight matrix w_d\n",
    "    \n",
    "    # Evaluate the best-fit polynomial at each point (x1,x2)\n",
    "    # and store the result in the corresponding column of p\n",
    "    \n",
    "# Plot the degree 1 surface\n",
    "Z1 = p[0,:].reshape(data['x1'].shape)\n",
    "ax = plt.axes(projection='3d')\n",
    "ax.scatter(data['x1'],data['x2'],y)\n",
    "ax.plot_surface(data['x1'],data['x2'],Z1,color='orange')\n",
    "plt.show()\n",
    "\n",
    "# Plot the degree 2 surface\n",
    "Z2 = p[1,:].reshape(data['x1'].shape)\n",
    "ax = plt.axes(projection='3d')\n",
    "ax.scatter(data['x1'],data['x2'],y)\n",
    "ax.plot_surface(data['x1'],data['x2'],Z2,color='orange')\n",
    "plt.show()\n",
    "\n",
    "# Plot the degree 3 surface\n",
    "Z3 = p[0,:].reshape(data['x1'].shape)\n",
    "ax = plt.axes(projection='3d')\n",
    "ax.scatter(data['x1'],data['x2'],y)\n",
    "ax.plot_surface(data['x1'],data['x2'],Z3,color='orange')\n",
    "plt.show()\n"
   ]
  }
 ],
 "metadata": {
  "kernelspec": {
   "display_name": "Python [conda env:classes]",
   "language": "python",
   "name": "conda-env-classes-py"
  },
  "language_info": {
   "codemirror_mode": {
    "name": "ipython",
    "version": 3
   },
   "file_extension": ".py",
   "mimetype": "text/x-python",
   "name": "python",
   "nbconvert_exporter": "python",
   "pygments_lexer": "ipython3",
   "version": "3.10.9"
  }
 },
 "nbformat": 4,
 "nbformat_minor": 5
}
