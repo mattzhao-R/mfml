{
 "cells": [
  {
   "cell_type": "code",
   "execution_count": 1,
   "id": "041223ce-cee5-4aec-b5c5-ee12fdf1445c",
   "metadata": {},
   "outputs": [],
   "source": [
    "import numpy as np"
   ]
  },
  {
   "cell_type": "code",
   "execution_count": null,
   "id": "0c900c49-de13-4002-9bf9-f4ff2e243346",
   "metadata": {},
   "outputs": [],
   "source": [
    "##### Part a #####\n",
    "# Load in training data and labels\n",
    "\n",
    "face_data_dict = np.load(\"face_emotion_data.npz\")\n",
    "face_features = face_data_dict[\"X\"]\n",
    "face_labels = face_data_dict[\"y\"]\n",
    "n, p = face_features.shape\n",
    "\n",
    "# Solve the least-squares solution.\n",
    "# Weights is the array of weight coefficients\n",
    "# TODO: find weights\n",
    "weights = face_features.T @ face_features\n",
    "\n",
    "print(f\"Part 4a. Found weights:\\n{weights}\")"
   ]
  }
 ],
 "metadata": {
  "kernelspec": {
   "display_name": "Python [conda env:classes]",
   "language": "python",
   "name": "conda-env-classes-py"
  },
  "language_info": {
   "codemirror_mode": {
    "name": "ipython",
    "version": 3
   },
   "file_extension": ".py",
   "mimetype": "text/x-python",
   "name": "python",
   "nbconvert_exporter": "python",
   "pygments_lexer": "ipython3",
   "version": "3.10.9"
  }
 },
 "nbformat": 4,
 "nbformat_minor": 5
}
