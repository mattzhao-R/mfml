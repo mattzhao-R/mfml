{
 "cells": [
  {
   "cell_type": "markdown",
   "metadata": {
    "id": "ButjtJGjzJX2"
   },
   "source": [
    "## Problem 1\n",
    "### Part (a)"
   ]
  },
  {
   "cell_type": "code",
   "execution_count": 1,
   "metadata": {
    "id": "kGZkUCLGzMOr"
   },
   "outputs": [],
   "source": [
    "import numpy as np\n",
    "\n",
    "def gram_schmidt(X):\n",
    "    # X is an n-by -p matrix .\n",
    "    # Returns U an orthonormal matrix .\n",
    "    # eps is a threshold value to identify if a vector\n",
    "    # is nearly a zero vector .\n",
    "    eps = 1e-12\n",
    "    n, p = X.shape\n",
    "    U = np.zeros((n, 0))\n",
    "    for j in range(p):\n",
    "        # Get the j-th column of matrix X\n",
    "        v = X[:,j]\n",
    "        # Write your own code here : Perform the\n",
    "        # orthogonalization by subtracting the projections on\n",
    "        # all columns of U. And then check whether the vector\n",
    "        # you get is nearly a zero vector.\n",
    "        if j == 0:\n",
    "            u = v / np.linalg.norm(v)\n",
    "            U = u.reshape(n,1)\n",
    "            print(U.shape)\n",
    "        else:\n",
    "            v = v - (U @ U.T @ v)\n",
    "\n",
    "            if np.linalg.norm(v) > eps:\n",
    "                u = v / np.linalg.norm(v)\n",
    "                U = np.concatenate((U,u.reshape(n,1)),axis = 1)\n",
    "\n",
    "    return U"
   ]
  },
  {
   "cell_type": "markdown",
   "metadata": {
    "id": "nmtroYeczXoP"
   },
   "source": [
    "### Part (b)"
   ]
  },
  {
   "cell_type": "code",
   "execution_count": 2,
   "metadata": {
    "id": "Upb99eKXzdoG"
   },
   "outputs": [],
   "source": [
    "def hilbert_matrix(n):\n",
    "    X = np.array([[1.0 / (i + j - 1) for i in range(1, n + 1)] for j in range(1, n + 1)])\n",
    "    return X"
   ]
  },
  {
   "cell_type": "code",
   "execution_count": 3,
   "metadata": {
    "id": "otGqRZolzptp"
   },
   "outputs": [],
   "source": [
    "hilbert_7 = hilbert_matrix(7)"
   ]
  },
  {
   "cell_type": "code",
   "execution_count": 4,
   "metadata": {
    "colab": {
     "base_uri": "https://localhost:8080/"
    },
    "id": "AIfpUdc-zQSR",
    "outputId": "06cccf13-3ed5-48aa-a0bd-a7f2841ec2fd"
   },
   "outputs": [
    {
     "name": "stdout",
     "output_type": "stream",
     "text": [
      "(7, 1)\n"
     ]
    },
    {
     "data": {
      "text/plain": [
       "array([[ 8.13304645e-01, -5.43794290e-01,  1.99095308e-01,\n",
       "        -5.51132525e-02,  1.19578492e-02, -1.96875818e-03,\n",
       "        -2.80269164e-04],\n",
       "       [ 4.06652323e-01,  3.03317262e-01, -6.88560548e-01,\n",
       "         4.75965265e-01, -1.97392654e-01,  5.41160707e-02,\n",
       "         5.01279161e-03],\n",
       "       [ 2.71101548e-01,  3.93949644e-01, -2.07134626e-01,\n",
       "        -4.90111167e-01,  6.10839673e-01, -3.26896752e-01,\n",
       "         2.83498633e-03],\n",
       "       [ 2.03326161e-01,  3.81744394e-01,  1.12389156e-01,\n",
       "        -4.39598473e-01, -2.54179063e-01,  6.41046772e-01,\n",
       "        -1.81369762e-01],\n",
       "       [ 1.62660929e-01,  3.51412668e-01,  2.91518455e-01,\n",
       "        -1.12276608e-01, -4.99206689e-01, -2.02222128e-01,\n",
       "         6.01183957e-01],\n",
       "       [ 1.35550774e-01,  3.20235052e-01,  3.89191824e-01,\n",
       "         2.30886766e-01, -1.50594721e-01, -5.41817115e-01,\n",
       "        -7.20509318e-01],\n",
       "       [ 1.16186378e-01,  2.92095792e-01,  4.40744903e-01,\n",
       "         5.20623748e-01,  5.01273339e-01,  3.80533243e-01,\n",
       "         2.94135918e-01]])"
      ]
     },
     "execution_count": 4,
     "metadata": {},
     "output_type": "execute_result"
    }
   ],
   "source": [
    "U = gram_schmidt(hilbert_7)\n",
    "U"
   ]
  },
  {
   "cell_type": "code",
   "execution_count": 5,
   "metadata": {
    "colab": {
     "base_uri": "https://localhost:8080/"
    },
    "id": "YFBQb_0nxU9R",
    "outputId": "bbce5119-187f-4b2e-88cf-53b7d40992a1"
   },
   "outputs": [
    {
     "data": {
      "text/plain": [
       "0.37311505015686264"
      ]
     },
     "execution_count": 5,
     "metadata": {},
     "output_type": "execute_result"
    }
   ],
   "source": [
    "np.linalg.norm(U @ U.T - np.identity(U.shape[0]))"
   ]
  },
  {
   "cell_type": "markdown",
   "metadata": {
    "id": "OksL1elrzqo6"
   },
   "source": [
    "### Part (c)"
   ]
  },
  {
   "cell_type": "code",
   "execution_count": 6,
   "metadata": {
    "id": "VaMlhjGdzr7z"
   },
   "outputs": [],
   "source": [
    "def modified_gram_schmidt(X):\n",
    "    # Define a threshold value to identify if a vector\n",
    "    # is nearly a zero vector .\n",
    "    eps = 1e-12\n",
    "    n, p = X.shape\n",
    "    U = np.zeros((n,0))\n",
    "    for j in range(p):\n",
    "        # Get the j-th column of matrix X\n",
    "        v = X[:, j]\n",
    "        for i in range(j):\n",
    "            # Compute and subtract the projection of\n",
    "            # vector v onto the i-th column of U\n",
    "            v = v - np.dot(U[:, i], v) * U[:, i]\n",
    "            # v = np.reshape(v,(-1, 1))\n",
    "        # Check whether the vector we get is nearly\n",
    "        # a zero vector\n",
    "        if np.linalg.norm(v) > eps:\n",
    "            # Normalize vector v and append it to U\n",
    "            U = np.hstack((U, (v / np.linalg.norm(v)).reshape(v.shape[0],1)))\n",
    "\n",
    "    return U"
   ]
  },
  {
   "cell_type": "code",
   "execution_count": 7,
   "metadata": {
    "colab": {
     "base_uri": "https://localhost:8080/"
    },
    "id": "ZdcKZJE2zkj_",
    "outputId": "a6206be7-9661-4672-fedd-278c07b3e486"
   },
   "outputs": [],
   "source": [
    "U_mod = modified_gram_schmidt(hilbert_7)"
   ]
  },
  {
   "cell_type": "code",
   "execution_count": 8,
   "metadata": {
    "colab": {
     "base_uri": "https://localhost:8080/"
    },
    "id": "N_QdUfis0R2q",
    "outputId": "8211a926-d9b8-4b4d-bb46-3c4d2ea773f9"
   },
   "outputs": [
    {
     "data": {
      "text/plain": [
       "2.7375854036485666e-08"
      ]
     },
     "execution_count": 8,
     "metadata": {},
     "output_type": "execute_result"
    }
   ],
   "source": [
    "np.linalg.norm(U_mod @ U_mod.T - np.identity(U_mod.shape[0]))"
   ]
  },
  {
   "cell_type": "markdown",
   "metadata": {
    "id": "tIdt_Pg3_pUj"
   },
   "source": [
    "## Problem 6"
   ]
  },
  {
   "cell_type": "code",
   "execution_count": 19,
   "metadata": {
    "id": "e5xIVNpmA1MD"
   },
   "outputs": [],
   "source": [
    "def cv(X, y, lambdas_, subset_count, fn):\n",
    "    n, p = X.shape\n",
    "    subset_size = n // subset_count\n",
    "    X = X.reshape(subset_count, subset_size, p)\n",
    "    y = y.reshape(subset_count, subset_size, 1)\n",
    "\n",
    "    cv_errs = np.zeros(subset_count)\n",
    "    for i in range(subset_count):\n",
    "        Xtrain = np.concatenate(np.delete(X,i,axis=0))\n",
    "        Xtest = X[i]\n",
    "        ytrain = np.concatenate(np.delete(y,i,axis=0))\n",
    "        ytest = y[i]\n",
    "\n",
    "        w = fn(Xtrain, ytrain, lambda_)\n",
    "\n",
    "        y_hat = Xtest @ w\n",
    "        preds = np.where(y_hat > 0, 1, -1)\n",
    "        err = (ytest - preds) / ytest.shape[0]\n",
    "        cv_errs[i] = err\n",
    "\n",
    "    return np.mean(cv_errs) * 100"
   ]
  },
  {
   "cell_type": "code",
   "execution_count": 20,
   "metadata": {
    "id": "WRLn4158_yGY"
   },
   "outputs": [],
   "source": [
    "import numpy as np\n",
    "import matplotlib.pyplot as plt\n",
    "import scipy.io as sio\n",
    "import sys\n",
    "face_data_dict = np.load(\"face_emotion_data.npz\")\n",
    "X = face_data_dict[\"X\"]\n",
    "y = face_data_dict[\"y\"]\n",
    "n, p = np.shape(X)\n",
    "# error rate for regularized least squares\n",
    "error_RLS = np.zeros((8, 7))\n",
    "# error rate for truncated SVD\n",
    "error_SVD = np.zeros((8, 7))\n",
    "# SVD parameters to test\n",
    "k_vals = np.arange(7) + 1\n",
    "param_err_SVD = np.zeros(len(k_vals))\n",
    "# RLS parameters to test\n",
    "lambda_vals = np.array([0, 0.5, 1, 2, 4, 8, 16])\n",
    "param_err_RLS = np.zeros(len(lambda_vals))"
   ]
  },
  {
   "cell_type": "markdown",
   "metadata": {
    "id": "xhRK_7EHQlab"
   },
   "source": [
    "### Part (a)"
   ]
  },
  {
   "cell_type": "code",
   "execution_count": 21,
   "metadata": {
    "id": "QP4o_lPD5kCI"
   },
   "outputs": [],
   "source": [
    "# truncated svd\n",
    "def truncSVD(X, y, k):\n",
    "    y = y.reshape(-1,1)\n",
    "    n, p = X.shape\n",
    "    U, Sigma, Vt = np.linalg.svd(X)\n",
    "    pinv_Sigmak = np.pad(np.diag(np.divide(1, Sigma[:k])),((0,n-k),(0,p-k))).T\n",
    "\n",
    "    w = Vt.T @ pinv_Sigmak @ U.T @ y\n",
    "\n",
    "    return w"
   ]
  },
  {
   "cell_type": "code",
   "execution_count": 22,
   "metadata": {
    "colab": {
     "base_uri": "https://localhost:8080/"
    },
    "id": "HEFg_tf0Qf78",
    "outputId": "19856f60-91e6-4125-c48e-4a13d9763900"
   },
   "outputs": [
    {
     "name": "stdout",
     "output_type": "stream",
     "text": [
      "Overall SVD error: 4.46 %\n"
     ]
    }
   ],
   "source": [
    "X = face_data_dict[\"X\"]\n",
    "y = face_data_dict[\"y\"]\n",
    "n, p = np.shape(X)\n",
    "subset_count = 8\n",
    "subset_size = n // subset_count\n",
    "X = X.reshape(subset_count, subset_size, p)\n",
    "y = y.reshape(subset_count, subset_size, 1)\n",
    "\n",
    "for i in range(subset_count):\n",
    "    temp = []\n",
    "    for j in range(subset_count):\n",
    "        if i != j:\n",
    "            Xtrain = np.concatenate(np.delete(X,[i,j],axis=0))\n",
    "            Xval = X[i]\n",
    "            Xtest = X[j]\n",
    "            ytrain = np.concatenate(np.delete(y,[i,j],axis=0))\n",
    "            yval = y[i]\n",
    "            ytest = y[j]\n",
    "\n",
    "            param_err_SVD = np.zeros(len(k_vals))\n",
    "            for num, k in enumerate(k_vals):\n",
    "                w = truncSVD(Xtrain, ytrain, k)\n",
    "\n",
    "                y_hat = Xval @ w\n",
    "                preds = np.where(y_hat > 0, 1, -1)\n",
    "                err = np.sum(yval - preds) / yval.shape[0]\n",
    "                param_err_SVD[num] = err\n",
    "\n",
    "            best_k = k_vals[np.argmin(param_err_SVD)]\n",
    "\n",
    "            w_best = truncSVD(Xtrain, ytrain, best_k)\n",
    "            y_hat = Xtest @ w\n",
    "            preds = np.where(y_hat > 0, 1, -1)\n",
    "            err = np.sum(np.where(ytest != preds, 1, 0)) / ytest.shape[0]\n",
    "            temp.append(err)\n",
    "    error_SVD[i] = np.array(temp)\n",
    "\n",
    "print(\"Overall SVD error:\", np.round(np.mean(error_SVD) * 100, 2),\"%\")"
   ]
  },
  {
   "cell_type": "markdown",
   "metadata": {
    "id": "jixCUTDJQoEc"
   },
   "source": [
    "### Part (b)"
   ]
  },
  {
   "cell_type": "code",
   "execution_count": 23,
   "metadata": {
    "id": "VrdnbnPuA1Uz"
   },
   "outputs": [],
   "source": [
    "# regularized least squares\n",
    "def regularizedLS(X, y, lambda_):\n",
    "    y = y.reshape(-1,1)\n",
    "    n, p = X.shape\n",
    "    U, Sigma, Vt = np.linalg.svd(X)\n",
    "    Sigma_mat = np.pad(np.diag(Sigma),((0,n - len(Sigma)),(0,p - len(Sigma))))\n",
    "\n",
    "    penal = Sigma_mat.T @ Sigma_mat + lambda_ * np.identity(p)\n",
    "    w = Vt.T @ np.linalg.inv(penal) @ Sigma_mat.T @ U.T @ y\n",
    "\n",
    "    return w"
   ]
  },
  {
   "cell_type": "code",
   "execution_count": 24,
   "metadata": {
    "colab": {
     "base_uri": "https://localhost:8080/"
    },
    "id": "nBpT_3b5Qn3q",
    "outputId": "1013b1b6-5f1e-4581-e4aa-c5fce6a1ec20"
   },
   "outputs": [
    {
     "name": "stdout",
     "output_type": "stream",
     "text": [
      "Overall RLS error: 5.36 %\n"
     ]
    }
   ],
   "source": [
    "X = face_data_dict[\"X\"]\n",
    "y = face_data_dict[\"y\"]\n",
    "n, p = np.shape(X)\n",
    "subset_count = 8\n",
    "subset_size = n // subset_count\n",
    "X = X.reshape(subset_count, subset_size, p)\n",
    "y = y.reshape(subset_count, subset_size, 1)\n",
    "\n",
    "for i in range(subset_count):\n",
    "    temp = []\n",
    "    for j in range(subset_count):\n",
    "        if i != j:\n",
    "            Xtrain = np.concatenate(np.delete(X,[i,j],axis=0))\n",
    "            Xval = X[i]\n",
    "            Xtest = X[j]\n",
    "            ytrain = np.concatenate(np.delete(y,[i,j],axis=0))\n",
    "            yval = y[i]\n",
    "            ytest = y[j]\n",
    "\n",
    "            param_err_RLS = np.zeros(len(lambda_vals))\n",
    "            for num, lambda_ in enumerate(lambda_vals):\n",
    "                w = regularizedLS(Xtrain, ytrain, lambda_)\n",
    "\n",
    "                y_hat = Xval @ w\n",
    "                preds = np.where(y_hat > 0, 1, -1)\n",
    "                err = np.sum(np.where(ytest != preds, 1, 0)) / ytest.shape[0]\n",
    "                param_err_RLS[num] = err\n",
    "\n",
    "            best_lambda = lambda_vals[np.argmin(param_err_RLS)]\n",
    "\n",
    "            w_best = regularizedLS(Xtrain, ytrain, best_lambda)\n",
    "            y_hat = Xtest @ w\n",
    "            preds = np.where(y_hat > 0, 1, -1)\n",
    "            err = np.sum(np.where(ytest != preds, 1, 0)) / ytest.shape[0]\n",
    "            temp.append(err)\n",
    "    error_RLS[i] = np.array(temp)\n",
    "\n",
    "print(\"Overall RLS error:\", np.round(np.mean(error_RLS) * 100, 2),\"%\")"
   ]
  },
  {
   "cell_type": "code",
   "execution_count": 25,
   "metadata": {
    "colab": {
     "base_uri": "https://localhost:8080/"
    },
    "id": "_7Zsnx_lQfso",
    "outputId": "4f66e4b3-844e-4a85-f4c0-61b82c572585"
   },
   "outputs": [
    {
     "data": {
      "text/plain": [
       "array([[0.0625, 0.0625, 0.0625, 0.    , 0.0625, 0.    , 0.    ],\n",
       "       [0.1875, 0.125 , 0.0625, 0.    , 0.0625, 0.    , 0.    ],\n",
       "       [0.1875, 0.    , 0.0625, 0.    , 0.0625, 0.    , 0.0625],\n",
       "       [0.1875, 0.    , 0.0625, 0.    , 0.0625, 0.    , 0.0625],\n",
       "       [0.1875, 0.    , 0.125 , 0.0625, 0.0625, 0.    , 0.    ],\n",
       "       [0.1875, 0.    , 0.0625, 0.0625, 0.    , 0.    , 0.    ],\n",
       "       [0.1875, 0.    , 0.125 , 0.0625, 0.    , 0.0625, 0.    ],\n",
       "       [0.1875, 0.    , 0.0625, 0.0625, 0.    , 0.0625, 0.    ]])"
      ]
     },
     "execution_count": 25,
     "metadata": {},
     "output_type": "execute_result"
    }
   ],
   "source": [
    "error_RLS"
   ]
  },
  {
   "cell_type": "markdown",
   "metadata": {
    "id": "zo7QPDDG_ydV"
   },
   "source": [
    "### Part (c)"
   ]
  },
  {
   "cell_type": "code",
   "execution_count": 26,
   "metadata": {
    "colab": {
     "base_uri": "https://localhost:8080/"
    },
    "id": "DHszKRHn_yox",
    "outputId": "1ba90fc7-fbdb-4127-a859-271c46e96208"
   },
   "outputs": [
    {
     "name": "stdout",
     "output_type": "stream",
     "text": [
      "Overall SVD error: 4.58 %\n"
     ]
    }
   ],
   "source": [
    "X = face_data_dict[\"X\"]\n",
    "# adding 3 new features\n",
    "X = np.concatenate((X, X @ np.random.rand(9,3)), axis = 1)\n",
    "y = face_data_dict[\"y\"]\n",
    "n, p = np.shape(X)\n",
    "subset_count = 8\n",
    "subset_size = n // subset_count\n",
    "X = X.reshape(subset_count, subset_size, p)\n",
    "y = y.reshape(subset_count, subset_size, 1)\n",
    "\n",
    "for i in range(subset_count):\n",
    "    temp = []\n",
    "    for j in range(subset_count):\n",
    "        if i != j:\n",
    "            Xtrain = np.concatenate(np.delete(X,[i,j],axis=0))\n",
    "            Xval = X[i]\n",
    "            Xtest = X[j]\n",
    "            ytrain = np.concatenate(np.delete(y,[i,j],axis=0))\n",
    "            yval = y[i]\n",
    "            ytest = y[j]\n",
    "\n",
    "            param_err_SVD = np.zeros(len(k_vals))\n",
    "            for num, k in enumerate(k_vals):\n",
    "                w = truncSVD(Xtrain, ytrain, k)\n",
    "\n",
    "                y_hat = Xval @ w\n",
    "                preds = np.where(y_hat > 0, 1, -1)\n",
    "                err = np.sum(yval - preds) / yval.shape[0]\n",
    "                param_err_SVD[num] = err\n",
    "\n",
    "            best_k = k_vals[np.argmin(param_err_SVD)]\n",
    "\n",
    "            w_best = truncSVD(Xtrain, ytrain, best_k)\n",
    "            y_hat = Xtest @ w\n",
    "            preds = np.where(y_hat > 0, 1, -1)\n",
    "            err = np.sum(np.where(ytest != preds, 1, 0)) / ytest.shape[0]\n",
    "            temp.append(err)\n",
    "    error_SVD[i] = np.array(temp)\n",
    "\n",
    "print(\"Overall SVD error:\", np.round(np.mean(error_SVD) * 100, 2),\"%\")"
   ]
  },
  {
   "cell_type": "code",
   "execution_count": 27,
   "metadata": {
    "colab": {
     "base_uri": "https://localhost:8080/"
    },
    "id": "PFiyHd-HmDEA",
    "outputId": "35e6d265-0114-4214-9aa0-8ccda6ad59a6"
   },
   "outputs": [
    {
     "name": "stdout",
     "output_type": "stream",
     "text": [
      "Overall RLS error: 5.36 %\n"
     ]
    }
   ],
   "source": [
    "X = face_data_dict[\"X\"]\n",
    "y = face_data_dict[\"y\"]\n",
    "n, p = np.shape(X)\n",
    "subset_count = 8\n",
    "subset_size = n // subset_count\n",
    "X = X.reshape(subset_count, subset_size, p)\n",
    "y = y.reshape(subset_count, subset_size, 1)\n",
    "\n",
    "for i in range(subset_count):\n",
    "    temp = []\n",
    "    for j in range(subset_count):\n",
    "        if i != j:\n",
    "            Xtrain = np.concatenate(np.delete(X,[i,j],axis=0))\n",
    "            Xval = X[i]\n",
    "            Xtest = X[j]\n",
    "            ytrain = np.concatenate(np.delete(y,[i,j],axis=0))\n",
    "            yval = y[i]\n",
    "            ytest = y[j]\n",
    "\n",
    "            param_err_RLS = np.zeros(len(lambda_vals))\n",
    "            for num, lambda_ in enumerate(lambda_vals):\n",
    "                w = regularizedLS(Xtrain, ytrain, lambda_)\n",
    "\n",
    "                y_hat = Xval @ w\n",
    "                preds = np.where(y_hat > 0, 1, -1)\n",
    "                err = np.sum(np.where(ytest != preds, 1, 0)) / ytest.shape[0]\n",
    "                param_err_RLS[num] = err\n",
    "\n",
    "            best_lambda = lambda_vals[np.argmin(param_err_RLS)]\n",
    "\n",
    "            w_best = regularizedLS(Xtrain, ytrain, best_lambda)\n",
    "            y_hat = Xtest @ w\n",
    "            preds = np.where(y_hat > 0, 1, -1)\n",
    "            err = np.sum(np.where(ytest != preds, 1, 0)) / ytest.shape[0]\n",
    "            temp.append(err)\n",
    "    error_RLS[i] = np.array(temp)\n",
    "\n",
    "print(\"Overall RLS error:\", np.round(np.mean(error_RLS) * 100, 2),\"%\")"
   ]
  }
 ],
 "metadata": {
  "colab": {
   "provenance": []
  },
  "kernelspec": {
   "display_name": "Python [conda env:classes]",
   "language": "python",
   "name": "conda-env-classes-py"
  },
  "language_info": {
   "codemirror_mode": {
    "name": "ipython",
    "version": 3
   },
   "file_extension": ".py",
   "mimetype": "text/x-python",
   "name": "python",
   "nbconvert_exporter": "python",
   "pygments_lexer": "ipython3",
   "version": "3.10.9"
  }
 },
 "nbformat": 4,
 "nbformat_minor": 4
}
