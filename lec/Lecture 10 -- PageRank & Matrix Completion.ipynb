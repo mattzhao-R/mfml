{
 "cells": [
  {
   "cell_type": "code",
   "execution_count": 1,
   "metadata": {},
   "outputs": [],
   "source": [
    "import numpy as np"
   ]
  },
  {
   "cell_type": "markdown",
   "metadata": {},
   "source": [
    "### PageRank"
   ]
  },
  {
   "cell_type": "code",
   "execution_count": 2,
   "metadata": {},
   "outputs": [],
   "source": [
    "# Adjacency matrix of links\n",
    "adjacency_matrix = np.array([\n",
    "    [0, 1, 1, 1],\n",
    "    [1, 0, 1, 1],\n",
    "    [1, 0, 0, 0],\n",
    "    [1, 0, 1, 0]\n",
    "])"
   ]
  },
  {
   "cell_type": "code",
   "execution_count": 3,
   "metadata": {},
   "outputs": [
    {
     "name": "stdout",
     "output_type": "stream",
     "text": [
      "[[0.         1.         0.33333333 0.5       ]\n",
      " [0.33333333 0.         0.33333333 0.5       ]\n",
      " [0.33333333 0.         0.         0.        ]\n",
      " [0.33333333 0.         0.33333333 0.        ]]\n"
     ]
    }
   ],
   "source": [
    "# Normalize adjacency matrix\n",
    "col_sums = adjacency_matrix.sum(axis=0)\n",
    "A = adjacency_matrix / col_sums[np.newaxis, :]\n",
    "print(A)"
   ]
  },
  {
   "cell_type": "code",
   "execution_count": 4,
   "metadata": {},
   "outputs": [],
   "source": [
    "# Initialize pi\n",
    "pi = np.matrix([.25,.25,.25,.25]).T"
   ]
  },
  {
   "cell_type": "code",
   "execution_count": 5,
   "metadata": {},
   "outputs": [
    {
     "name": "stdout",
     "output_type": "stream",
     "text": [
      "Final pi: [[0.75526322]\n",
      " [0.50350882]\n",
      " [0.25175441]\n",
      " [0.33567255]]\n"
     ]
    }
   ],
   "source": [
    "# Use power iteration to update pi\n",
    "num_iterations = 20\n",
    "for _ in range(num_iterations):\n",
    "    numerator = A@pi\n",
    "    denumerator = np.linalg.norm(numerator)\n",
    "    pi = numerator/denumerator\n",
    "    \n",
    "print('Final pi:', pi)"
   ]
  },
  {
   "cell_type": "markdown",
   "metadata": {},
   "source": [
    "### Matrix Completion"
   ]
  },
  {
   "cell_type": "code",
   "execution_count": 6,
   "metadata": {},
   "outputs": [
    {
     "name": "stdout",
     "output_type": "stream",
     "text": [
      "X:\n",
      " [[0.59099394 0.63603308 0.1988718  0.00433864 0.74248003]\n",
      " [0.4578318  0.32644027 0.47563335 0.53912158 0.06455628]\n",
      " [0.19696818 0.40014478 0.03703266 0.52632507 0.71073452]\n",
      " [0.12859307 0.39914934 0.40050152 0.98274261 0.68222808]]\n",
      "X_obs:\n",
      " [[-1.         -1.          0.1988718   0.00433864 -1.        ]\n",
      " [ 0.4578318   0.32644027  0.47563335 -1.          0.06455628]\n",
      " [ 0.19696818  0.40014478  0.03703266 -1.         -1.        ]\n",
      " [ 0.12859307  0.39914934  0.40050152 -1.         -1.        ]]\n"
     ]
    }
   ],
   "source": [
    "# Initialize data\n",
    "X = np.random.rand(4, 5) # values are between 0 and 1\n",
    "observed_fraction = 0.5\n",
    "mask = X > observed_fraction\n",
    "X_obs = X.copy()\n",
    "X_obs[mask] = -1\n",
    "print(\"X:\\n\", X)\n",
    "print(\"X_obs:\\n\", X_obs)"
   ]
  },
  {
   "cell_type": "code",
   "execution_count": 7,
   "metadata": {},
   "outputs": [
    {
     "data": {
      "text/plain": [
       "(4, 5)"
      ]
     },
     "execution_count": 7,
     "metadata": {},
     "output_type": "execute_result"
    }
   ],
   "source": [
    "X_obs.shape"
   ]
  },
  {
   "cell_type": "code",
   "execution_count": 8,
   "metadata": {},
   "outputs": [],
   "source": [
    "# Iterative singular value thresholding\n",
    "def iterative_svt(X_obs, observed_mask, max_iterations, threshold, tol=1e-6):\n",
    "    X_hat = np.zeros(X_obs.shape)\n",
    "    X_hat[observed_mask] = X_obs[observed_mask]\n",
    "\n",
    "    for iteration in range(max_iterations):\n",
    "        X_old_hat = X_hat.copy()\n",
    "        U, S, VT = np.linalg.svd(X_hat, full_matrices=False)\n",
    "        thresholded_S = np.maximum(S - threshold, 0)\n",
    "    \n",
    "        X_hat = np.dot(U, np.dot(np.diag(thresholded_S), VT))\n",
    "\n",
    "        # Update the entries of X corresponding to observed values in M\n",
    "        X_hat[observed_mask] = X_obs[observed_mask]\n",
    "\n",
    "        if np.linalg.norm(X_hat - X_old_hat) < tol:\n",
    "            break\n",
    "\n",
    "    return X"
   ]
  },
  {
   "cell_type": "code",
   "execution_count": 9,
   "metadata": {
    "scrolled": true
   },
   "outputs": [
    {
     "name": "stdout",
     "output_type": "stream",
     "text": [
      "mask: \n",
      " [[ True  True False False  True]\n",
      " [False False False  True False]\n",
      " [False False False  True  True]\n",
      " [False False False  True  True]]\n",
      "observed_mask: \n",
      " [[False False  True  True False]\n",
      " [ True  True  True False  True]\n",
      " [ True  True  True False False]\n",
      " [ True  True  True False False]]\n"
     ]
    }
   ],
   "source": [
    "observed_mask = ~mask\n",
    "print('mask: \\n', mask)\n",
    "print('observed_mask: \\n', observed_mask)"
   ]
  },
  {
   "cell_type": "code",
   "execution_count": 10,
   "metadata": {},
   "outputs": [],
   "source": [
    "threshold=1.0\n",
    "max_iterations=10\n",
    "recovered_matrix = iterative_svt(X_obs, observed_mask, max_iterations, threshold)"
   ]
  },
  {
   "cell_type": "code",
   "execution_count": 11,
   "metadata": {},
   "outputs": [
    {
     "data": {
      "text/plain": [
       "array([[0.59099394, 0.63603308, 0.1988718 , 0.00433864, 0.74248003],\n",
       "       [0.4578318 , 0.32644027, 0.47563335, 0.53912158, 0.06455628],\n",
       "       [0.19696818, 0.40014478, 0.03703266, 0.52632507, 0.71073452],\n",
       "       [0.12859307, 0.39914934, 0.40050152, 0.98274261, 0.68222808]])"
      ]
     },
     "execution_count": 11,
     "metadata": {},
     "output_type": "execute_result"
    }
   ],
   "source": [
    "recovered_matrix"
   ]
  },
  {
   "cell_type": "code",
   "execution_count": 12,
   "metadata": {},
   "outputs": [
    {
     "data": {
      "text/plain": [
       "array([[0.59099394, 0.63603308, 0.1988718 , 0.00433864, 0.74248003],\n",
       "       [0.4578318 , 0.32644027, 0.47563335, 0.53912158, 0.06455628],\n",
       "       [0.19696818, 0.40014478, 0.03703266, 0.52632507, 0.71073452],\n",
       "       [0.12859307, 0.39914934, 0.40050152, 0.98274261, 0.68222808]])"
      ]
     },
     "execution_count": 12,
     "metadata": {},
     "output_type": "execute_result"
    }
   ],
   "source": [
    "X"
   ]
  },
  {
   "cell_type": "code",
   "execution_count": null,
   "metadata": {},
   "outputs": [],
   "source": []
  }
 ],
 "metadata": {
  "kernelspec": {
   "display_name": "Python 3",
   "language": "python",
   "name": "python3"
  },
  "language_info": {
   "codemirror_mode": {
    "name": "ipython",
    "version": 3
   },
   "file_extension": ".py",
   "mimetype": "text/x-python",
   "name": "python",
   "nbconvert_exporter": "python",
   "pygments_lexer": "ipython3",
   "version": "3.8.3"
  }
 },
 "nbformat": 4,
 "nbformat_minor": 4
}
